{
 "cells": [
  {
   "cell_type": "code",
   "execution_count": 1,
   "id": "7277320b",
   "metadata": {},
   "outputs": [],
   "source": [
    "import torch # PyTorch\n",
    "import torch.nn as nn\n",
    "import torch.optim as optim\n",
    "import torchvision\n",
    "import torchvision.transforms as transforms\n",
    "import ssl\n",
    "ssl._create_default_https_context = ssl._create_unverified_context"
   ]
  },
  {
   "cell_type": "code",
   "execution_count": 2,
   "id": "66d5b7d6",
   "metadata": {},
   "outputs": [
    {
     "name": "stdout",
     "output_type": "stream",
     "text": [
      "cuda\n"
     ]
    }
   ],
   "source": [
    "device = torch.device(\"cuda\" if torch.cuda.is_available() else \"cpu\") #Cuda varsa kullan yoksa cpu kullan. Cuda GPU'yu temsil eder.\n",
    "print(device)\n",
    "\n",
    "transform = transforms.Compose([\n",
    "    transforms.RandomCrop(32, padding=4),\n",
    "    transforms.RandomHorizontalFlip(),\n",
    "    transforms.ToTensor(),\n",
    "    transforms.Normalize((0.4914, 0.4822, 0.4465),\n",
    "                         (0.2023, 0.1994, 0.2010)),\n",
    "])\n"
   ]
  },
  {
   "cell_type": "code",
   "execution_count": 3,
   "id": "6b470ade",
   "metadata": {},
   "outputs": [],
   "source": [
    "trainset = torchvision.datasets.CIFAR10(root='./data', train=True, download=True, transform=transform)"
   ]
  },
  {
   "cell_type": "code",
   "execution_count": 4,
   "id": "efa02a7b",
   "metadata": {},
   "outputs": [],
   "source": [
    "trainloader = torch.utils.data.DataLoader(trainset, batch_size=4, shuffle=True)  # batch_size=4, her bir batch'te 4 resim olacak şekilde ayarlandı."
   ]
  },
  {
   "cell_type": "code",
   "execution_count": 5,
   "id": "669e58e0",
   "metadata": {},
   "outputs": [],
   "source": [
    "testset = torchvision.datasets.CIFAR10(root='./data', train=False, download=True, transform=transform)"
   ]
  },
  {
   "cell_type": "code",
   "execution_count": 6,
   "id": "c14e2d9c",
   "metadata": {},
   "outputs": [],
   "source": [
    "testloader = torch.utils.data.DataLoader(testset, batch_size=4, shuffle=False) "
   ]
  },
  {
   "cell_type": "code",
   "execution_count": 7,
   "id": "9d3a67e1",
   "metadata": {},
   "outputs": [],
   "source": [
    "import torch\n",
    "\n",
    "class Net(nn.Module):\n",
    "    def __init__(self):\n",
    "        super().__init__()\n",
    "        # Conv bloğu 1\n",
    "        self.conv1 = nn.Conv2d(3, 16, 3, padding=1)\n",
    "        self.bn1   = nn.BatchNorm2d(16)\n",
    "        # Conv bloğu 2\n",
    "        self.conv2 = nn.Conv2d(16, 32, 3, padding=1)\n",
    "        self.bn2   = nn.BatchNorm2d(32)\n",
    "        # Conv bloğu 3\n",
    "        self.conv3 = nn.Conv2d(32, 64, 3, padding=1)\n",
    "        self.bn3   = nn.BatchNorm2d(64)\n",
    "\n",
    "        self.pool  = nn.MaxPool2d(2,2)\n",
    "        self.dropout = nn.Dropout(0.5)\n",
    "        self.fc1   = nn.Linear(64 * 4 * 4, 256)\n",
    "        self.fc2   = nn.Linear(256, 10)\n",
    "        self.relu  = nn.ReLU()\n",
    "\n",
    "    def forward(self, x):\n",
    "        x = self.pool(self.relu(self.bn1(self.conv1(x))))\n",
    "        x = self.pool(self.relu(self.bn2(self.conv2(x))))\n",
    "        x = self.pool(self.relu(self.bn3(self.conv3(x))))\n",
    "        x = x.view(-1, 64*4*4)\n",
    "        x = self.dropout(self.relu(self.fc1(x)))\n",
    "        x = self.fc2(x)\n",
    "        return x"
   ]
  },
  {
   "cell_type": "code",
   "execution_count": null,
   "id": "defc2769",
   "metadata": {},
   "outputs": [
    {
     "name": "stdout",
     "output_type": "stream",
     "text": [
      "[1,  2000] loss: 2.321\n",
      "[1,  4000] loss: 2.265\n",
      "[1,  6000] loss: 2.221\n",
      "[1,  8000] loss: 2.183\n",
      "[1, 10000] loss: 2.158\n",
      "[1, 12000] loss: 2.120\n",
      "[2,  2000] loss: 2.089\n",
      "[2,  4000] loss: 2.075\n",
      "[2,  6000] loss: 2.046\n",
      "[2,  8000] loss: 2.029\n",
      "[2, 10000] loss: 2.024\n",
      "[2, 12000] loss: 2.018\n",
      "[3,  2000] loss: 1.987\n",
      "[3,  4000] loss: 1.987\n",
      "[3,  6000] loss: 1.970\n",
      "[3,  8000] loss: 1.961\n",
      "[3, 10000] loss: 1.957\n",
      "[3, 12000] loss: 1.942\n",
      "[4,  2000] loss: 1.932\n",
      "[4,  4000] loss: 1.923\n",
      "[4,  6000] loss: 1.915\n",
      "[4,  8000] loss: 1.909\n",
      "[4, 10000] loss: 1.900\n",
      "[4, 12000] loss: 1.893\n",
      "[5,  2000] loss: 1.876\n",
      "[5,  4000] loss: 1.873\n",
      "[5,  6000] loss: 1.873\n",
      "[5,  8000] loss: 1.865\n",
      "[5, 10000] loss: 1.853\n",
      "[5, 12000] loss: 1.856\n",
      "[6,  2000] loss: 1.845\n",
      "[6,  4000] loss: 1.849\n",
      "[6,  6000] loss: 1.832\n",
      "[6,  8000] loss: 1.820\n",
      "[6, 10000] loss: 1.812\n",
      "[6, 12000] loss: 1.808\n",
      "[7,  2000] loss: 1.797\n",
      "[7,  4000] loss: 1.812\n",
      "[7,  6000] loss: 1.800\n",
      "[7,  8000] loss: 1.790\n",
      "[7, 10000] loss: 1.773\n",
      "[7, 12000] loss: 1.795\n",
      "[8,  2000] loss: 1.777\n",
      "[8,  4000] loss: 1.773\n"
     ]
    }
   ],
   "source": [
    "# … (transform ve dataloader tanımları)\n",
    "net = Net().to(device) # Modeli oluştur ve GPU'ya taşı\n",
    "\n",
    "criterion   = nn.CrossEntropyLoss(label_smoothing=0.1)\n",
    "optimizer   = torch.optim.SGD(net.parameters(), lr=0.00001,\n",
    "                              momentum=0.9, weight_decay=5e-4)\n",
    "scheduler   = torch.optim.lr_scheduler.CosineAnnealingLR(optimizer, T_max=200)\n",
    "\n",
    "for epoch in range(10):  # 10 epoch\n",
    "    running_loss = 0.0\n",
    "    for i, data in enumerate(trainloader, 0):\n",
    "        # veriyi al, cihaza gönder\n",
    "        inputs, labels = data\n",
    "        inputs, labels = inputs.to(device), labels.to(device)\n",
    "\n",
    "        # geri yayılım adımları\n",
    "        optimizer.zero_grad()\n",
    "        outputs = net(inputs)\n",
    "        loss = criterion(outputs, labels)\n",
    "        loss.backward()\n",
    "        optimizer.step()\n",
    "\n",
    "        # loss biriktirme ve her 2000 iterasyonda ekrana yazdırma\n",
    "        running_loss += loss.item()\n",
    "        if i % 2000 == 1999:\n",
    "            print(f\"[{epoch+1}, {i+1:5d}] loss: {running_loss/2000:.3f}\")\n",
    "            running_loss = 0.0\n",
    "    scheduler.step()"
   ]
  },
  {
   "cell_type": "code",
   "execution_count": null,
   "id": "54223ba8",
   "metadata": {},
   "outputs": [
    {
     "name": "stdout",
     "output_type": "stream",
     "text": [
      "Test set doğruluğu: 44.33%\n"
     ]
    }
   ],
   "source": [
    "correct = 0\n",
    "total = 0\n",
    "\n",
    "with torch.no_grad():\n",
    "    for data in testloader:\n",
    "        images, labels = data\n",
    "        images, labels = images.to(device), labels.to(device)\n",
    "        \n",
    "        outputs = net(images)\n",
    "        _, predicted = torch.max(outputs.data, 1)\n",
    "        total += labels.size(0)\n",
    "        correct += (predicted == labels).sum().item()\n",
    "\n",
    "print(f\"Test set doğruluğu: {100 * correct / total:.2f}%\")"
   ]
  },
  {
   "cell_type": "code",
   "execution_count": null,
   "id": "680b6672",
   "metadata": {},
   "outputs": [],
   "source": [
    "# Eğitilen ağı ‘cifar_net.pth’ olarak kaydet\n",
    "torch.save(net.state_dict(), 'cifar_net.pth')"
   ]
  },
  {
   "cell_type": "code",
   "execution_count": null,
   "id": "efad1891",
   "metadata": {},
   "outputs": [],
   "source": []
  },
  {
   "cell_type": "code",
   "execution_count": null,
   "id": "029471b5",
   "metadata": {},
   "outputs": [],
   "source": []
  }
 ],
 "metadata": {
  "kernelspec": {
   "display_name": "Python 3",
   "language": "python",
   "name": "python3"
  },
  "language_info": {
   "codemirror_mode": {
    "name": "ipython",
    "version": 3
   },
   "file_extension": ".py",
   "mimetype": "text/x-python",
   "name": "python",
   "nbconvert_exporter": "python",
   "pygments_lexer": "ipython3",
   "version": "3.11.5"
  }
 },
 "nbformat": 4,
 "nbformat_minor": 5
}
